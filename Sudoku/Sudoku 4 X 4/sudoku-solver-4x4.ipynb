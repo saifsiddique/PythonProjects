{
 "cells": [
  {
   "cell_type": "code",
   "execution_count": 1,
   "metadata": {},
   "outputs": [],
   "source": [
    "from copy import deepcopy\n",
    "\n",
    "Grid = [['.', '.', '2', '3'],\n",
    "        ['.', '.', '.', '.'],\n",
    "        ['.', '.', '.', '.'],\n",
    "        ['3', '4', '.', '.']]\n",
    "\n",
    "# Since the sudoku is 4 X 4\n",
    "elements = ['1','2','3','4']"
   ]
  },
  {
   "cell_type": "code",
   "execution_count": 2,
   "metadata": {},
   "outputs": [],
   "source": [
    "def get_rows(new_Grid):\n",
    "    rows = []\n",
    "    for r in range(0,4):\n",
    "        row = {}\n",
    "        for c in range(0,4):\n",
    "            row[(r,c)] = new_Grid[r][c]\n",
    "        rows.append(row)# Add the dictionary to the rows\n",
    "    return rows"
   ]
  },
  {
   "cell_type": "code",
   "execution_count": 21,
   "metadata": {},
   "outputs": [
    {
     "data": {
      "text/plain": [
       "[{(0, 0): '.', (0, 1): '.', (0, 2): '2', (0, 3): '3'},\n",
       " {(1, 0): '.', (1, 1): '.', (1, 2): '.', (1, 3): '.'},\n",
       " {(2, 0): '.', (2, 1): '.', (2, 2): '.', (2, 3): '.'},\n",
       " {(3, 0): '3', (3, 1): '4', (3, 2): '.', (3, 3): '.'}]"
      ]
     },
     "execution_count": 21,
     "metadata": {},
     "output_type": "execute_result"
    }
   ],
   "source": [
    "get_rows(Grid) # testing"
   ]
  },
  {
   "cell_type": "code",
   "execution_count": 13,
   "metadata": {},
   "outputs": [],
   "source": [
    "#This function makes dictionaries and add them as columns\n",
    "\n",
    "def get_cols(new_Grid):\n",
    "    cols = []\n",
    "    for i in range(0,4):\n",
    "        col = {}\n",
    "        for x in range(0,4):\n",
    "            col[(x,i)] = new_Grid[x][i]\n",
    "        cols.append(col)\n",
    "    return cols"
   ]
  },
  {
   "cell_type": "code",
   "execution_count": 20,
   "metadata": {},
   "outputs": [
    {
     "data": {
      "text/plain": [
       "[{(0, 0): '.', (1, 0): '.', (2, 0): '.', (3, 0): '3'},\n",
       " {(0, 1): '.', (1, 1): '.', (2, 1): '.', (3, 1): '4'},\n",
       " {(0, 2): '2', (1, 2): '.', (2, 2): '.', (3, 2): '.'},\n",
       " {(0, 3): '3', (1, 3): '.', (2, 3): '.', (3, 3): '.'}]"
      ]
     },
     "execution_count": 20,
     "metadata": {},
     "output_type": "execute_result"
    }
   ],
   "source": [
    "get_cols(Grid)"
   ]
  },
  {
   "cell_type": "code",
   "execution_count": 15,
   "metadata": {},
   "outputs": [],
   "source": [
    "# indices of the squares of the grid\n",
    "square_indx = [[(0,1),(0,1)],\n",
    "               [(0,1),(2,3)],\n",
    "               [(2,3),(0,1)],\n",
    "               [(2,3),(2,3)]]\n",
    "\n",
    "def get_squares(new_Grid):\n",
    "    squares = []\n",
    "    for i in range(0,4):\n",
    "        square = {}\n",
    "        for x in square_indx[i][0]:\n",
    "            for y in square_indx[i][1]:\n",
    "                square[(x,y)] = new_Grid[x][y]\n",
    "        squares.append(square)\n",
    "    return squares"
   ]
  },
  {
   "cell_type": "code",
   "execution_count": 16,
   "metadata": {},
   "outputs": [
    {
     "data": {
      "text/plain": [
       "[{(0, 0): '.', (0, 1): '.', (1, 0): '.', (1, 1): '.'},\n",
       " {(0, 2): '2', (0, 3): '3', (1, 2): '.', (1, 3): '.'},\n",
       " {(2, 0): '.', (2, 1): '.', (3, 0): '3', (3, 1): '4'},\n",
       " {(2, 2): '.', (2, 3): '.', (3, 2): '.', (3, 3): '.'}]"
      ]
     },
     "execution_count": 16,
     "metadata": {},
     "output_type": "execute_result"
    }
   ],
   "source": [
    "get_squares(Grid) # we see every square is in a different dictionary"
   ]
  },
  {
   "cell_type": "code",
   "execution_count": 17,
   "metadata": {},
   "outputs": [],
   "source": [
    "def get_all_related_cells(new_Grid):\n",
    "    squares = get_squares(new_Grid)\n",
    "    rows = get_rows(new_Grid)\n",
    "    cols = get_cols(new_Grid)\n",
    "    all_vec = squares + rows + cols\n",
    "    return all_vec"
   ]
  },
  {
   "cell_type": "code",
   "execution_count": 18,
   "metadata": {},
   "outputs": [
    {
     "data": {
      "text/plain": [
       "[{(0, 0): '.', (0, 1): '.', (1, 0): '.', (1, 1): '.'},\n",
       " {(0, 2): '2', (0, 3): '3', (1, 2): '.', (1, 3): '.'},\n",
       " {(2, 0): '.', (2, 1): '.', (3, 0): '3', (3, 1): '4'},\n",
       " {(2, 2): '.', (2, 3): '.', (3, 2): '.', (3, 3): '.'},\n",
       " {(0, 0): '.', (0, 1): '.', (0, 2): '2', (0, 3): '3'},\n",
       " {(1, 0): '.', (1, 1): '.', (1, 2): '.', (1, 3): '.'},\n",
       " {(2, 0): '.', (2, 1): '.', (2, 2): '.', (2, 3): '.'},\n",
       " {(3, 0): '3', (3, 1): '4', (3, 2): '.', (3, 3): '.'},\n",
       " {(0, 0): '.', (1, 0): '.', (2, 0): '.', (3, 0): '3'},\n",
       " {(0, 1): '.', (1, 1): '.', (2, 1): '.', (3, 1): '4'},\n",
       " {(0, 2): '2', (1, 2): '.', (2, 2): '.', (3, 2): '.'},\n",
       " {(0, 3): '3', (1, 3): '.', (2, 3): '.', (3, 3): '.'}]"
      ]
     },
     "execution_count": 18,
     "metadata": {},
     "output_type": "execute_result"
    }
   ],
   "source": [
    "get_all_related_cells(Grid) # 12 dictionaries, with 4 rows, 4 cols, and 4 squares"
   ]
  },
  {
   "cell_type": "code",
   "execution_count": 19,
   "metadata": {},
   "outputs": [],
   "source": [
    "def get_new_r_c(r, c):\n",
    "    if c==3:\n",
    "        if r==3:\n",
    "            new_r = r\n",
    "            new_c = c\n",
    "        else:\n",
    "            new_c = 0\n",
    "            new_r = r+1\n",
    "    else:\n",
    "        new_r = r\n",
    "        new_c = c+1\n",
    "    return new_r, new_c"
   ]
  },
  {
   "cell_type": "code",
   "execution_count": 6,
   "metadata": {},
   "outputs": [],
   "source": [
    "# getting the legal values in the cell\n",
    "def get_legal_for_cell(cell_r, cell_c, new_Grid):\n",
    "    if new_Grid[cell_r][cell_c]!='.':\n",
    "        return [None],[None],[None]\n",
    "\n",
    "    map = {}\n",
    "    all_vec = get_all_related_cells(new_Grid)\n",
    "    for a in all_vec:\n",
    "        if (cell_r, cell_c) in a.keys():\n",
    "            map.update(a)          # no duplicates\n",
    "\n",
    "    exist = []\n",
    "    for m in map:                  # get key from keys\n",
    "        if not map[m]=='.':\n",
    "            exist.append(map[m])\n",
    "\n",
    "    rest = list(set(elements) - set(exist))\n",
    "    return rest, exist, map"
   ]
  },
  {
   "cell_type": "code",
   "execution_count": 7,
   "metadata": {},
   "outputs": [],
   "source": [
    "def is_complete(new_Grid):\n",
    "    grid_complete = True\n",
    "    for r in new_Grid:\n",
    "        grid_complete = grid_complete and not ('.' in r)\n",
    "    return grid_complete\n",
    "\n",
    "def print_grid(new_Grid):\n",
    "    for item in new_Grid:\n",
    "        print(item)\n",
    "    print()"
   ]
  },
  {
   "cell_type": "code",
   "execution_count": 25,
   "metadata": {},
   "outputs": [],
   "source": [
    "# deep copy; for lists - otherwise simple copy makes a reference variable\n",
    "from copy import deepcopy"
   ]
  },
  {
   "cell_type": "code",
   "execution_count": 10,
   "metadata": {
    "scrolled": true
   },
   "outputs": [
    {
     "name": "stdout",
     "output_type": "stream",
     "text": [
      "Incomplete:\n",
      "['.', '.', '2', '3']\n",
      "['.', '.', '.', '.']\n",
      "['.', '.', '.', '.']\n",
      "['3', '4', '.', '.']\n",
      "\n",
      "Complete:\n",
      "['4', '1', '2', '3']\n",
      "['2', '3', '4', '1']\n",
      "['1', '2', '3', '4']\n",
      "['3', '4', '1', '2']\n",
      "\n"
     ]
    }
   ],
   "source": [
    "# the backtacking agorithm\n",
    "def solve_step_in_sudoko(last_Grid, r, c):\n",
    "    if is_complete(last_Grid):\n",
    "        print('Complete:')\n",
    "        print_grid(last_Grid)\n",
    "        return 0\n",
    "    \n",
    "    legal_for_cell,_ ,_ = get_legal_for_cell(r, c, last_Grid)\n",
    "\n",
    "    for item in legal_for_cell:\n",
    "        new_Grid = deepcopy(last_Grid)\n",
    "        if last_Grid[r][c]=='.':\n",
    "            new_Grid[r][c] = item\n",
    "        new_r, new_c = get_new_r_c(r, c)\n",
    "        \n",
    "        solve_step_in_sudoko(new_Grid, new_r, new_c)\n",
    "\n",
    "print('Incomplete:')\n",
    "print_grid(Grid)\n",
    "solve_step_in_sudoko(Grid, 0, 0)"
   ]
  }
 ],
 "metadata": {
  "kernelspec": {
   "display_name": "Python 3",
   "language": "python",
   "name": "python3"
  },
  "language_info": {
   "codemirror_mode": {
    "name": "ipython",
    "version": 3
   },
   "file_extension": ".py",
   "mimetype": "text/x-python",
   "name": "python",
   "nbconvert_exporter": "python",
   "pygments_lexer": "ipython3",
   "version": "3.8.5"
  }
 },
 "nbformat": 4,
 "nbformat_minor": 4
}
